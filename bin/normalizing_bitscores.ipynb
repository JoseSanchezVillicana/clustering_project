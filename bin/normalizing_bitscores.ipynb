{
 "cells": [
  {
   "cell_type": "code",
   "execution_count": 2,
   "metadata": {},
   "outputs": [],
   "source": [
    "import pandas as pd\n",
    "import numpy as np "
   ]
  },
  {
   "cell_type": "code",
   "execution_count": 3,
   "metadata": {},
   "outputs": [
    {
     "name": "stdout",
     "output_type": "stream",
     "text": [
      "274.0\n"
     ]
    },
    {
     "data": {
      "text/plain": [
       "\"\\n\\n# Normalize bitscores\\n\\nnormalized_bitscores = collapsed_df / maximum_value\\n\\n# Save normalized bitcores \\n\\nnormalized_bitscores.to_csv('./../results/normalized_bitscores.csv', sep= ',', header= True)\\n\\n# Distances matrix \\n\\ndistances_df = 1 - normalized_bitscores\\nnp.fill_diagonal(distances_df.values, 0)\\ndistances_df.to_csv('./../results/distances.csv', sep= ',', header= True)\\n\""
      ]
     },
     "execution_count": 3,
     "metadata": {},
     "output_type": "execute_result"
    }
   ],
   "source": [
    "# Read blast output\n",
    "\n",
    "columns = ['protein 1', 'protein 2', '% identity', 'alingment lenght', 'mismatches', 'gap opens', 'q. start', 'q. end', 's. start', 's. end', 'e-value', 'bit score']\n",
    "blast_output = pd.read_csv('./../results/ABC_blast.tsv', sep= '\\t', comment= '#', header= None, names= columns)\n",
    "\n",
    "# Eliminate columns not bitscore\n",
    "\n",
    "columns_2_drop = ['% identity', 'alingment lenght', 'mismatches', 'gap opens', 'q. start', 'q. end', 's. start', 's. end', 'e-value']\n",
    "tidy_df = blast_output.drop(columns_2_drop, axis= 1)\n",
    "\n",
    "# Collapse pivot table like input into a collapsed squared matrix\n",
    "\n",
    "collapsed_df = tidy_df.pivot_table(index='protein 1', columns='protein 2', values='bit score', aggfunc='first', fill_value= 0)\n",
    "\n",
    "# Save squared matrix\n",
    "\n",
    "collapsed_df.to_csv('./../results/collapsed_df.csv', sep= ',', header= True)\n",
    "\n",
    "# Change diagonal to 0 to ignore it for further analysis\n",
    "\n",
    "np.fill_diagonal(collapsed_df.values, 0)\n",
    "\n",
    "# Get normalizing factor\n",
    "\n",
    "maximum_value = collapsed_df.to_numpy().max()\n",
    "\n",
    "# Normalize bitscores\n",
    "\n",
    "normalized_bitscores = collapsed_df / maximum_value\n",
    "\n",
    "# Save normalized bitcores \n",
    "\n",
    "normalized_bitscores.to_csv('./../results/normalized_bitscores.csv', sep= ',', header= True)\n",
    "\n",
    "# Distances matrix \n",
    "\n",
    "distances_df = 1 - normalized_bitscores\n",
    "np.fill_diagonal(distances_df.values, 0)\n",
    "distances_df.to_csv('./../results/distances.csv', sep= ',', header= True)\n"
   ]
  }
 ],
 "metadata": {
  "kernelspec": {
   "display_name": "netective",
   "language": "python",
   "name": "python3"
  },
  "language_info": {
   "codemirror_mode": {
    "name": "ipython",
    "version": 3
   },
   "file_extension": ".py",
   "mimetype": "text/x-python",
   "name": "python",
   "nbconvert_exporter": "python",
   "pygments_lexer": "ipython3",
   "version": "3.8.16"
  }
 },
 "nbformat": 4,
 "nbformat_minor": 2
}
